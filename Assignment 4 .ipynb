{
  "cells": [
    {
      "cell_type": "code",
      "execution_count": 1,
      "id": "fbdd1332",
      "metadata": {
        "id": "fbdd1332"
      },
      "outputs": [],
      "source": [
        "import pandas as pd\n",
        "import numpy as np\n",
        "import seaborn as sb\n",
        "import matplotlib.pyplot as plt"
      ]
    },
    {
      "cell_type": "code",
      "execution_count": 2,
      "id": "8fcefbee",
      "metadata": {
        "id": "8fcefbee",
        "outputId": "391127e6-d251-4cff-e5b2-1773b4de0bff",
        "colab": {
          "base_uri": "https://localhost:8080/",
          "height": 831
        }
      },
      "outputs": [
        {
          "output_type": "stream",
          "name": "stderr",
          "text": [
            "/usr/local/lib/python3.7/dist-packages/sklearn/utils/deprecation.py:87: FutureWarning: Function load_boston is deprecated; `load_boston` is deprecated in 1.0 and will be removed in 1.2.\n",
            "\n",
            "    The Boston housing prices dataset has an ethical problem. You can refer to\n",
            "    the documentation of this function for further details.\n",
            "\n",
            "    The scikit-learn maintainers therefore strongly discourage the use of this\n",
            "    dataset unless the purpose of the code is to study and educate about\n",
            "    ethical issues in data science and machine learning.\n",
            "\n",
            "    In this special case, you can fetch the dataset from the original\n",
            "    source::\n",
            "\n",
            "        import pandas as pd\n",
            "        import numpy as np\n",
            "\n",
            "\n",
            "        data_url = \"http://lib.stat.cmu.edu/datasets/boston\"\n",
            "        raw_df = pd.read_csv(data_url, sep=\"\\s+\", skiprows=22, header=None)\n",
            "        data = np.hstack([raw_df.values[::2, :], raw_df.values[1::2, :2]])\n",
            "        target = raw_df.values[1::2, 2]\n",
            "\n",
            "    Alternative datasets include the California housing dataset (i.e.\n",
            "    :func:`~sklearn.datasets.fetch_california_housing`) and the Ames housing\n",
            "    dataset. You can load the datasets as follows::\n",
            "\n",
            "        from sklearn.datasets import fetch_california_housing\n",
            "        housing = fetch_california_housing()\n",
            "\n",
            "    for the California housing dataset and::\n",
            "\n",
            "        from sklearn.datasets import fetch_openml\n",
            "        housing = fetch_openml(name=\"house_prices\", as_frame=True)\n",
            "\n",
            "    for the Ames housing dataset.\n",
            "    \n",
            "  warnings.warn(msg, category=FutureWarning)\n"
          ]
        },
        {
          "output_type": "execute_result",
          "data": {
            "text/plain": [
              "      CRIM    ZN  INDUS  CHAS    NOX     RM   AGE     DIS  RAD    TAX  \\\n",
              "0  0.00632  18.0   2.31   0.0  0.538  6.575  65.2  4.0900  1.0  296.0   \n",
              "1  0.02731   0.0   7.07   0.0  0.469  6.421  78.9  4.9671  2.0  242.0   \n",
              "2  0.02729   0.0   7.07   0.0  0.469  7.185  61.1  4.9671  2.0  242.0   \n",
              "3  0.03237   0.0   2.18   0.0  0.458  6.998  45.8  6.0622  3.0  222.0   \n",
              "4  0.06905   0.0   2.18   0.0  0.458  7.147  54.2  6.0622  3.0  222.0   \n",
              "\n",
              "   PTRATIO       B  LSTAT  SalePrice  \n",
              "0     15.3  396.90   4.98       24.0  \n",
              "1     17.8  396.90   9.14       21.6  \n",
              "2     17.8  392.83   4.03       34.7  \n",
              "3     18.7  394.63   2.94       33.4  \n",
              "4     18.7  396.90   5.33       36.2  "
            ],
            "text/html": [
              "\n",
              "  <div id=\"df-f01103cd-1c0b-4f4a-83aa-10a298535cfd\">\n",
              "    <div class=\"colab-df-container\">\n",
              "      <div>\n",
              "<style scoped>\n",
              "    .dataframe tbody tr th:only-of-type {\n",
              "        vertical-align: middle;\n",
              "    }\n",
              "\n",
              "    .dataframe tbody tr th {\n",
              "        vertical-align: top;\n",
              "    }\n",
              "\n",
              "    .dataframe thead th {\n",
              "        text-align: right;\n",
              "    }\n",
              "</style>\n",
              "<table border=\"1\" class=\"dataframe\">\n",
              "  <thead>\n",
              "    <tr style=\"text-align: right;\">\n",
              "      <th></th>\n",
              "      <th>CRIM</th>\n",
              "      <th>ZN</th>\n",
              "      <th>INDUS</th>\n",
              "      <th>CHAS</th>\n",
              "      <th>NOX</th>\n",
              "      <th>RM</th>\n",
              "      <th>AGE</th>\n",
              "      <th>DIS</th>\n",
              "      <th>RAD</th>\n",
              "      <th>TAX</th>\n",
              "      <th>PTRATIO</th>\n",
              "      <th>B</th>\n",
              "      <th>LSTAT</th>\n",
              "      <th>SalePrice</th>\n",
              "    </tr>\n",
              "  </thead>\n",
              "  <tbody>\n",
              "    <tr>\n",
              "      <th>0</th>\n",
              "      <td>0.00632</td>\n",
              "      <td>18.0</td>\n",
              "      <td>2.31</td>\n",
              "      <td>0.0</td>\n",
              "      <td>0.538</td>\n",
              "      <td>6.575</td>\n",
              "      <td>65.2</td>\n",
              "      <td>4.0900</td>\n",
              "      <td>1.0</td>\n",
              "      <td>296.0</td>\n",
              "      <td>15.3</td>\n",
              "      <td>396.90</td>\n",
              "      <td>4.98</td>\n",
              "      <td>24.0</td>\n",
              "    </tr>\n",
              "    <tr>\n",
              "      <th>1</th>\n",
              "      <td>0.02731</td>\n",
              "      <td>0.0</td>\n",
              "      <td>7.07</td>\n",
              "      <td>0.0</td>\n",
              "      <td>0.469</td>\n",
              "      <td>6.421</td>\n",
              "      <td>78.9</td>\n",
              "      <td>4.9671</td>\n",
              "      <td>2.0</td>\n",
              "      <td>242.0</td>\n",
              "      <td>17.8</td>\n",
              "      <td>396.90</td>\n",
              "      <td>9.14</td>\n",
              "      <td>21.6</td>\n",
              "    </tr>\n",
              "    <tr>\n",
              "      <th>2</th>\n",
              "      <td>0.02729</td>\n",
              "      <td>0.0</td>\n",
              "      <td>7.07</td>\n",
              "      <td>0.0</td>\n",
              "      <td>0.469</td>\n",
              "      <td>7.185</td>\n",
              "      <td>61.1</td>\n",
              "      <td>4.9671</td>\n",
              "      <td>2.0</td>\n",
              "      <td>242.0</td>\n",
              "      <td>17.8</td>\n",
              "      <td>392.83</td>\n",
              "      <td>4.03</td>\n",
              "      <td>34.7</td>\n",
              "    </tr>\n",
              "    <tr>\n",
              "      <th>3</th>\n",
              "      <td>0.03237</td>\n",
              "      <td>0.0</td>\n",
              "      <td>2.18</td>\n",
              "      <td>0.0</td>\n",
              "      <td>0.458</td>\n",
              "      <td>6.998</td>\n",
              "      <td>45.8</td>\n",
              "      <td>6.0622</td>\n",
              "      <td>3.0</td>\n",
              "      <td>222.0</td>\n",
              "      <td>18.7</td>\n",
              "      <td>394.63</td>\n",
              "      <td>2.94</td>\n",
              "      <td>33.4</td>\n",
              "    </tr>\n",
              "    <tr>\n",
              "      <th>4</th>\n",
              "      <td>0.06905</td>\n",
              "      <td>0.0</td>\n",
              "      <td>2.18</td>\n",
              "      <td>0.0</td>\n",
              "      <td>0.458</td>\n",
              "      <td>7.147</td>\n",
              "      <td>54.2</td>\n",
              "      <td>6.0622</td>\n",
              "      <td>3.0</td>\n",
              "      <td>222.0</td>\n",
              "      <td>18.7</td>\n",
              "      <td>396.90</td>\n",
              "      <td>5.33</td>\n",
              "      <td>36.2</td>\n",
              "    </tr>\n",
              "  </tbody>\n",
              "</table>\n",
              "</div>\n",
              "      <button class=\"colab-df-convert\" onclick=\"convertToInteractive('df-f01103cd-1c0b-4f4a-83aa-10a298535cfd')\"\n",
              "              title=\"Convert this dataframe to an interactive table.\"\n",
              "              style=\"display:none;\">\n",
              "        \n",
              "  <svg xmlns=\"http://www.w3.org/2000/svg\" height=\"24px\"viewBox=\"0 0 24 24\"\n",
              "       width=\"24px\">\n",
              "    <path d=\"M0 0h24v24H0V0z\" fill=\"none\"/>\n",
              "    <path d=\"M18.56 5.44l.94 2.06.94-2.06 2.06-.94-2.06-.94-.94-2.06-.94 2.06-2.06.94zm-11 1L8.5 8.5l.94-2.06 2.06-.94-2.06-.94L8.5 2.5l-.94 2.06-2.06.94zm10 10l.94 2.06.94-2.06 2.06-.94-2.06-.94-.94-2.06-.94 2.06-2.06.94z\"/><path d=\"M17.41 7.96l-1.37-1.37c-.4-.4-.92-.59-1.43-.59-.52 0-1.04.2-1.43.59L10.3 9.45l-7.72 7.72c-.78.78-.78 2.05 0 2.83L4 21.41c.39.39.9.59 1.41.59.51 0 1.02-.2 1.41-.59l7.78-7.78 2.81-2.81c.8-.78.8-2.07 0-2.86zM5.41 20L4 18.59l7.72-7.72 1.47 1.35L5.41 20z\"/>\n",
              "  </svg>\n",
              "      </button>\n",
              "      \n",
              "  <style>\n",
              "    .colab-df-container {\n",
              "      display:flex;\n",
              "      flex-wrap:wrap;\n",
              "      gap: 12px;\n",
              "    }\n",
              "\n",
              "    .colab-df-convert {\n",
              "      background-color: #E8F0FE;\n",
              "      border: none;\n",
              "      border-radius: 50%;\n",
              "      cursor: pointer;\n",
              "      display: none;\n",
              "      fill: #1967D2;\n",
              "      height: 32px;\n",
              "      padding: 0 0 0 0;\n",
              "      width: 32px;\n",
              "    }\n",
              "\n",
              "    .colab-df-convert:hover {\n",
              "      background-color: #E2EBFA;\n",
              "      box-shadow: 0px 1px 2px rgba(60, 64, 67, 0.3), 0px 1px 3px 1px rgba(60, 64, 67, 0.15);\n",
              "      fill: #174EA6;\n",
              "    }\n",
              "\n",
              "    [theme=dark] .colab-df-convert {\n",
              "      background-color: #3B4455;\n",
              "      fill: #D2E3FC;\n",
              "    }\n",
              "\n",
              "    [theme=dark] .colab-df-convert:hover {\n",
              "      background-color: #434B5C;\n",
              "      box-shadow: 0px 1px 3px 1px rgba(0, 0, 0, 0.15);\n",
              "      filter: drop-shadow(0px 1px 2px rgba(0, 0, 0, 0.3));\n",
              "      fill: #FFFFFF;\n",
              "    }\n",
              "  </style>\n",
              "\n",
              "      <script>\n",
              "        const buttonEl =\n",
              "          document.querySelector('#df-f01103cd-1c0b-4f4a-83aa-10a298535cfd button.colab-df-convert');\n",
              "        buttonEl.style.display =\n",
              "          google.colab.kernel.accessAllowed ? 'block' : 'none';\n",
              "\n",
              "        async function convertToInteractive(key) {\n",
              "          const element = document.querySelector('#df-f01103cd-1c0b-4f4a-83aa-10a298535cfd');\n",
              "          const dataTable =\n",
              "            await google.colab.kernel.invokeFunction('convertToInteractive',\n",
              "                                                     [key], {});\n",
              "          if (!dataTable) return;\n",
              "\n",
              "          const docLinkHtml = 'Like what you see? Visit the ' +\n",
              "            '<a target=\"_blank\" href=https://colab.research.google.com/notebooks/data_table.ipynb>data table notebook</a>'\n",
              "            + ' to learn more about interactive tables.';\n",
              "          element.innerHTML = '';\n",
              "          dataTable['output_type'] = 'display_data';\n",
              "          await google.colab.output.renderOutput(dataTable, element);\n",
              "          const docLink = document.createElement('div');\n",
              "          docLink.innerHTML = docLinkHtml;\n",
              "          element.appendChild(docLink);\n",
              "        }\n",
              "      </script>\n",
              "    </div>\n",
              "  </div>\n",
              "  "
            ]
          },
          "metadata": {},
          "execution_count": 2
        }
      ],
      "source": [
        "from sklearn.datasets import load_boston \n",
        "\n",
        "load_boston = load_boston()\n",
        "\n",
        "x = load_boston.data \n",
        "y = load_boston.target \n",
        "\n",
        "df = pd.DataFrame(x, columns=load_boston.feature_names) \n",
        "df[\"SalePrice\"] = y \n",
        "df.head() "
      ]
    },
    {
      "cell_type": "code",
      "execution_count": 3,
      "id": "2e41162a",
      "metadata": {
        "id": "2e41162a",
        "outputId": "dc5ca226-6264-491c-fa36-88314dc657e0",
        "colab": {
          "base_uri": "https://localhost:8080/"
        }
      },
      "outputs": [
        {
          "output_type": "stream",
          "name": "stdout",
          "text": [
            ".. _boston_dataset:\n",
            "\n",
            "Boston house prices dataset\n",
            "---------------------------\n",
            "\n",
            "**Data Set Characteristics:**  \n",
            "\n",
            "    :Number of Instances: 506 \n",
            "\n",
            "    :Number of Attributes: 13 numeric/categorical predictive. Median Value (attribute 14) is usually the target.\n",
            "\n",
            "    :Attribute Information (in order):\n",
            "        - CRIM     per capita crime rate by town\n",
            "        - ZN       proportion of residential land zoned for lots over 25,000 sq.ft.\n",
            "        - INDUS    proportion of non-retail business acres per town\n",
            "        - CHAS     Charles River dummy variable (= 1 if tract bounds river; 0 otherwise)\n",
            "        - NOX      nitric oxides concentration (parts per 10 million)\n",
            "        - RM       average number of rooms per dwelling\n",
            "        - AGE      proportion of owner-occupied units built prior to 1940\n",
            "        - DIS      weighted distances to five Boston employment centres\n",
            "        - RAD      index of accessibility to radial highways\n",
            "        - TAX      full-value property-tax rate per $10,000\n",
            "        - PTRATIO  pupil-teacher ratio by town\n",
            "        - B        1000(Bk - 0.63)^2 where Bk is the proportion of black people by town\n",
            "        - LSTAT    % lower status of the population\n",
            "        - MEDV     Median value of owner-occupied homes in $1000's\n",
            "\n",
            "    :Missing Attribute Values: None\n",
            "\n",
            "    :Creator: Harrison, D. and Rubinfeld, D.L.\n",
            "\n",
            "This is a copy of UCI ML housing dataset.\n",
            "https://archive.ics.uci.edu/ml/machine-learning-databases/housing/\n",
            "\n",
            "\n",
            "This dataset was taken from the StatLib library which is maintained at Carnegie Mellon University.\n",
            "\n",
            "The Boston house-price data of Harrison, D. and Rubinfeld, D.L. 'Hedonic\n",
            "prices and the demand for clean air', J. Environ. Economics & Management,\n",
            "vol.5, 81-102, 1978.   Used in Belsley, Kuh & Welsch, 'Regression diagnostics\n",
            "...', Wiley, 1980.   N.B. Various transformations are used in the table on\n",
            "pages 244-261 of the latter.\n",
            "\n",
            "The Boston house-price data has been used in many machine learning papers that address regression\n",
            "problems.   \n",
            "     \n",
            ".. topic:: References\n",
            "\n",
            "   - Belsley, Kuh & Welsch, 'Regression diagnostics: Identifying Influential Data and Sources of Collinearity', Wiley, 1980. 244-261.\n",
            "   - Quinlan,R. (1993). Combining Instance-Based and Model-Based Learning. In Proceedings on the Tenth International Conference of Machine Learning, 236-243, University of Massachusetts, Amherst. Morgan Kaufmann.\n",
            "\n"
          ]
        }
      ],
      "source": [
        "print(load_boston.DESCR)"
      ]
    },
    {
      "cell_type": "code",
      "execution_count": 4,
      "id": "d7ee8eb5",
      "metadata": {
        "id": "d7ee8eb5",
        "outputId": "17c6c61f-5108-4370-a1b3-450bfcfa1d87",
        "colab": {
          "base_uri": "https://localhost:8080/"
        }
      },
      "outputs": [
        {
          "output_type": "execute_result",
          "data": {
            "text/plain": [
              "(506, 14)"
            ]
          },
          "metadata": {},
          "execution_count": 4
        }
      ],
      "source": [
        "df.shape"
      ]
    },
    {
      "cell_type": "code",
      "execution_count": 5,
      "id": "d9d19ae1",
      "metadata": {
        "id": "d9d19ae1",
        "outputId": "62b0c9b5-9496-4873-c19d-bab5763aacf6",
        "colab": {
          "base_uri": "https://localhost:8080/"
        }
      },
      "outputs": [
        {
          "output_type": "stream",
          "name": "stdout",
          "text": [
            "<class 'pandas.core.frame.DataFrame'>\n",
            "RangeIndex: 506 entries, 0 to 505\n",
            "Data columns (total 14 columns):\n",
            " #   Column     Non-Null Count  Dtype  \n",
            "---  ------     --------------  -----  \n",
            " 0   CRIM       506 non-null    float64\n",
            " 1   ZN         506 non-null    float64\n",
            " 2   INDUS      506 non-null    float64\n",
            " 3   CHAS       506 non-null    float64\n",
            " 4   NOX        506 non-null    float64\n",
            " 5   RM         506 non-null    float64\n",
            " 6   AGE        506 non-null    float64\n",
            " 7   DIS        506 non-null    float64\n",
            " 8   RAD        506 non-null    float64\n",
            " 9   TAX        506 non-null    float64\n",
            " 10  PTRATIO    506 non-null    float64\n",
            " 11  B          506 non-null    float64\n",
            " 12  LSTAT      506 non-null    float64\n",
            " 13  SalePrice  506 non-null    float64\n",
            "dtypes: float64(14)\n",
            "memory usage: 55.5 KB\n"
          ]
        }
      ],
      "source": [
        "df.info()"
      ]
    },
    {
      "cell_type": "code",
      "execution_count": 6,
      "id": "affd2c22",
      "metadata": {
        "id": "affd2c22",
        "outputId": "726eda52-6e7f-4a10-d944-3d30fd10821b",
        "colab": {
          "base_uri": "https://localhost:8080/",
          "height": 631
        }
      },
      "outputs": [
        {
          "output_type": "display_data",
          "data": {
            "text/plain": [
              "<Figure size 720x720 with 2 Axes>"
            ],
            "image/png": "[encoded data removed]"
          },
          "metadata": {
            "needs_background": "light"
          }
        }
      ],
      "source": [
        "df.corr()\n",
        "plt.figure(figsize=(10,10))\n",
        "plot = sb.heatmap(df.corr(),cmap='BuPu',annot = True)\n",
        "plt.show()"
      ]
    },
    {
      "cell_type": "code",
      "execution_count": 7,
      "id": "e33a3b5c",
      "metadata": {
        "id": "e33a3b5c"
      },
      "outputs": [],
      "source": [
        "from sklearn.model_selection import train_test_split\n",
        "from sklearn.linear_model import LinearRegression \n",
        "from sklearn.metrics import mean_squared_error, r2_score"
      ]
    },
    {
      "cell_type": "code",
      "execution_count": 8,
      "id": "6c8af553",
      "metadata": {
        "id": "6c8af553"
      },
      "outputs": [],
      "source": [
        "x = df.iloc[:,:-1].values\n",
        "y = df.loc[:,'SalePrice'].values"
      ]
    },
    {
      "cell_type": "code",
      "execution_count": 9,
      "id": "909d7d45",
      "metadata": {
        "id": "909d7d45",
        "outputId": "ce0c605a-49c8-4fa8-dce8-24c8abfd4c15",
        "colab": {
          "base_uri": "https://localhost:8080/"
        }
      },
      "outputs": [
        {
          "output_type": "execute_result",
          "data": {
            "text/plain": [
              "LinearRegression()"
            ]
          },
          "metadata": {},
          "execution_count": 9
        }
      ],
      "source": [
        "x_train, x_test, y_train, y_test = train_test_split(x, y, test_size=0.25,random_state = 7)\n",
        "\n",
        "li_reg = LinearRegression()\n",
        "\n",
        "li_reg = li_reg.fit(x_train,y_train)\n",
        "\n",
        "LinearRegression()"
      ]
    },
    {
      "cell_type": "code",
      "execution_count": 10,
      "id": "07a2141f",
      "metadata": {
        "id": "07a2141f",
        "outputId": "295a92b7-9392-412d-dd01-99e6f6e9650d",
        "colab": {
          "base_uri": "https://localhost:8080/"
        }
      },
      "outputs": [
        {
          "output_type": "stream",
          "name": "stdout",
          "text": [
            "intercept: 23.956746017565717\n",
            "coefficients: [-1.29372986e-01  2.95904870e-02  2.22928425e-02  2.83744579e+00\n",
            " -1.53954203e+01  5.27557273e+00 -1.05383841e-02 -1.30170765e+00\n",
            "  2.66392896e-01 -1.09686702e-02 -9.64830193e-01  1.08603361e-02\n",
            " -3.78363465e-01]\n"
          ]
        }
      ],
      "source": [
        "intercept = li_reg.intercept_\n",
        "coefficients = li_reg.coef_\n",
        "\n",
        "print('intercept:', li_reg.intercept_)\n",
        "print('coefficients:', li_reg.coef_)"
      ]
    },
    {
      "cell_type": "code",
      "execution_count": 11,
      "id": "7bc0f81b",
      "metadata": {
        "id": "7bc0f81b",
        "outputId": "3734c279-3b95-4fcc-f0f5-54969d7ded5c",
        "colab": {
          "base_uri": "https://localhost:8080/"
        }
      },
      "outputs": [
        {
          "output_type": "stream",
          "name": "stdout",
          "text": [
            "r-squared:  0.7666470212195009\n",
            "r-squared:  0.6170003090082032\n"
          ]
        }
      ],
      "source": [
        "print('r-squared: ', li_reg.score(x_train, y_train))\n",
        "print('r-squared: ', li_reg.score(x_test, y_test))"
      ]
    },
    {
      "cell_type": "code",
      "execution_count": 12,
      "id": "2319a225",
      "metadata": {
        "id": "2319a225",
        "outputId": "5c115933-6989-4b77-aa37-1ac1079f3bf5",
        "colab": {
          "base_uri": "https://localhost:8080/"
        }
      },
      "outputs": [
        {
          "output_type": "stream",
          "name": "stdout",
          "text": [
            " Mean squared error :29.515137790197734'\n",
            "'Root Mean squared error: 5.432783613415662\n"
          ]
        }
      ],
      "source": [
        "y_predicted = li_reg.predict(x_test)\n",
        "mse=mean_squared_error(y_test,y_predicted)\n",
        "rmse = np.sqrt(mean_squared_error(y_test, y_predicted))\n",
        "print(f\" Mean squared error :{mse}'\\n'Root Mean squared error: {rmse}\")"
      ]
    },
    {
      "cell_type": "code",
      "execution_count": 12,
      "id": "f9ff7a25",
      "metadata": {
        "id": "f9ff7a25"
      },
      "outputs": [],
      "source": []
    },
    {
      "cell_type": "code",
      "execution_count": 12,
      "id": "696e7f8c",
      "metadata": {
        "id": "696e7f8c"
      },
      "outputs": [],
      "source": []
    },
    {
      "cell_type": "code",
      "execution_count": 13,
      "id": "ce6f6934",
      "metadata": {
        "id": "ce6f6934"
      },
      "outputs": [],
      "source": [
        "x = np.array(df.iloc[:,:-1])\n",
        "y = np.array( df.loc[:,'SalePrice'])"
      ]
    },
    {
      "cell_type": "code",
      "execution_count": 14,
      "id": "47bee694",
      "metadata": {
        "id": "47bee694",
        "outputId": "1f9ee6b9-fe83-4d98-9c41-f1218889da58",
        "colab": {
          "base_uri": "https://localhost:8080/"
        }
      },
      "outputs": [
        {
          "output_type": "execute_result",
          "data": {
            "text/plain": [
              "(506, 13)"
            ]
          },
          "metadata": {},
          "execution_count": 14
        }
      ],
      "source": [
        "x.shape"
      ]
    },
    {
      "cell_type": "code",
      "execution_count": 15,
      "id": "5af96097",
      "metadata": {
        "id": "5af96097",
        "outputId": "0607815c-09e7-4858-b0c1-05ac4226afa8",
        "colab": {
          "base_uri": "https://localhost:8080/"
        }
      },
      "outputs": [
        {
          "output_type": "stream",
          "name": "stdout",
          "text": [
            "[[6.3200e-03 1.8000e+01 2.3100e+00 ... 1.5300e+01 3.9690e+02 4.9800e+00]\n",
            " [2.7310e-02 0.0000e+00 7.0700e+00 ... 1.7800e+01 3.9690e+02 9.1400e+00]\n",
            " [2.7290e-02 0.0000e+00 7.0700e+00 ... 1.7800e+01 3.9283e+02 4.0300e+00]\n",
            " ...\n",
            " [6.0760e-02 0.0000e+00 1.1930e+01 ... 2.1000e+01 3.9690e+02 5.6400e+00]\n",
            " [1.0959e-01 0.0000e+00 1.1930e+01 ... 2.1000e+01 3.9345e+02 6.4800e+00]\n",
            " [4.7410e-02 0.0000e+00 1.1930e+01 ... 2.1000e+01 3.9690e+02 7.8800e+00]]\n"
          ]
        }
      ],
      "source": [
        "print(x)"
      ]
    },
    {
      "cell_type": "code",
      "execution_count": 16,
      "id": "3f16433e",
      "metadata": {
        "id": "3f16433e",
        "outputId": "4bcb84d3-575b-439e-9efe-be765824640d",
        "colab": {
          "base_uri": "https://localhost:8080/"
        }
      },
      "outputs": [
        {
          "output_type": "execute_result",
          "data": {
            "text/plain": [
              "(506,)"
            ]
          },
          "metadata": {},
          "execution_count": 16
        }
      ],
      "source": [
        "y.shape"
      ]
    },
    {
      "cell_type": "code",
      "execution_count": 17,
      "id": "4f4fe62f",
      "metadata": {
        "id": "4f4fe62f",
        "outputId": "05d4de95-def6-46a4-f33b-7ced6a72ca76",
        "colab": {
          "base_uri": "https://localhost:8080/"
        }
      },
      "outputs": [
        {
          "output_type": "stream",
          "name": "stdout",
          "text": [
            "[24.  21.6 34.7 33.4 36.2 28.7 22.9 27.1 16.5 18.9 15.  18.9 21.7 20.4\n",
            " 18.2 19.9 23.1 17.5 20.2 18.2 13.6 19.6 15.2 14.5 15.6 13.9 16.6 14.8\n",
            " 18.4 21.  12.7 14.5 13.2 13.1 13.5 18.9 20.  21.  24.7 30.8 34.9 26.6\n",
            " 25.3 24.7 21.2 19.3 20.  16.6 14.4 19.4 19.7 20.5 25.  23.4 18.9 35.4\n",
            " 24.7 31.6 23.3 19.6 18.7 16.  22.2 25.  33.  23.5 19.4 22.  17.4 20.9\n",
            " 24.2 21.7 22.8 23.4 24.1 21.4 20.  20.8 21.2 20.3 28.  23.9 24.8 22.9\n",
            " 23.9 26.6 22.5 22.2 23.6 28.7 22.6 22.  22.9 25.  20.6 28.4 21.4 38.7\n",
            " 43.8 33.2 27.5 26.5 18.6 19.3 20.1 19.5 19.5 20.4 19.8 19.4 21.7 22.8\n",
            " 18.8 18.7 18.5 18.3 21.2 19.2 20.4 19.3 22.  20.3 20.5 17.3 18.8 21.4\n",
            " 15.7 16.2 18.  14.3 19.2 19.6 23.  18.4 15.6 18.1 17.4 17.1 13.3 17.8\n",
            " 14.  14.4 13.4 15.6 11.8 13.8 15.6 14.6 17.8 15.4 21.5 19.6 15.3 19.4\n",
            " 17.  15.6 13.1 41.3 24.3 23.3 27.  50.  50.  50.  22.7 25.  50.  23.8\n",
            " 23.8 22.3 17.4 19.1 23.1 23.6 22.6 29.4 23.2 24.6 29.9 37.2 39.8 36.2\n",
            " 37.9 32.5 26.4 29.6 50.  32.  29.8 34.9 37.  30.5 36.4 31.1 29.1 50.\n",
            " 33.3 30.3 34.6 34.9 32.9 24.1 42.3 48.5 50.  22.6 24.4 22.5 24.4 20.\n",
            " 21.7 19.3 22.4 28.1 23.7 25.  23.3 28.7 21.5 23.  26.7 21.7 27.5 30.1\n",
            " 44.8 50.  37.6 31.6 46.7 31.5 24.3 31.7 41.7 48.3 29.  24.  25.1 31.5\n",
            " 23.7 23.3 22.  20.1 22.2 23.7 17.6 18.5 24.3 20.5 24.5 26.2 24.4 24.8\n",
            " 29.6 42.8 21.9 20.9 44.  50.  36.  30.1 33.8 43.1 48.8 31.  36.5 22.8\n",
            " 30.7 50.  43.5 20.7 21.1 25.2 24.4 35.2 32.4 32.  33.2 33.1 29.1 35.1\n",
            " 45.4 35.4 46.  50.  32.2 22.  20.1 23.2 22.3 24.8 28.5 37.3 27.9 23.9\n",
            " 21.7 28.6 27.1 20.3 22.5 29.  24.8 22.  26.4 33.1 36.1 28.4 33.4 28.2\n",
            " 22.8 20.3 16.1 22.1 19.4 21.6 23.8 16.2 17.8 19.8 23.1 21.  23.8 23.1\n",
            " 20.4 18.5 25.  24.6 23.  22.2 19.3 22.6 19.8 17.1 19.4 22.2 20.7 21.1\n",
            " 19.5 18.5 20.6 19.  18.7 32.7 16.5 23.9 31.2 17.5 17.2 23.1 24.5 26.6\n",
            " 22.9 24.1 18.6 30.1 18.2 20.6 17.8 21.7 22.7 22.6 25.  19.9 20.8 16.8\n",
            " 21.9 27.5 21.9 23.1 50.  50.  50.  50.  50.  13.8 13.8 15.  13.9 13.3\n",
            " 13.1 10.2 10.4 10.9 11.3 12.3  8.8  7.2 10.5  7.4 10.2 11.5 15.1 23.2\n",
            "  9.7 13.8 12.7 13.1 12.5  8.5  5.   6.3  5.6  7.2 12.1  8.3  8.5  5.\n",
            " 11.9 27.9 17.2 27.5 15.  17.2 17.9 16.3  7.   7.2  7.5 10.4  8.8  8.4\n",
            " 16.7 14.2 20.8 13.4 11.7  8.3 10.2 10.9 11.   9.5 14.5 14.1 16.1 14.3\n",
            " 11.7 13.4  9.6  8.7  8.4 12.8 10.5 17.1 18.4 15.4 10.8 11.8 14.9 12.6\n",
            " 14.1 13.  13.4 15.2 16.1 17.8 14.9 14.1 12.7 13.5 14.9 20.  16.4 17.7\n",
            " 19.5 20.2 21.4 19.9 19.  19.1 19.1 20.1 19.9 19.6 23.2 29.8 13.8 13.3\n",
            " 16.7 12.  14.6 21.4 23.  23.7 25.  21.8 20.6 21.2 19.1 20.6 15.2  7.\n",
            "  8.1 13.6 20.1 21.8 24.5 23.1 19.7 18.3 21.2 17.5 16.8 22.4 20.6 23.9\n",
            " 22.  11.9]\n"
          ]
        }
      ],
      "source": [
        "print(y)"
      ]
    },
    {
      "cell_type": "code",
      "execution_count": 19,
      "id": "dbccd478",
      "metadata": {
        "id": "dbccd478",
        "outputId": "3528f00d-00a4-49a2-9b8f-b921d9c71d47",
        "colab": {
          "base_uri": "https://localhost:8080/"
        }
      },
      "outputs": [
        {
          "output_type": "execute_result",
          "data": {
            "text/plain": [
              "Ridge()"
            ]
          },
          "metadata": {},
          "execution_count": 19
        }
      ],
      "source": [
        "from sklearn.linear_model import Ridge\n",
        "\n",
        "x = np.array(df.iloc[:,:-1])\n",
        "y = np.array( df.loc[:,'SalePrice'])\n",
        "\n",
        "x_train, x_test, y_train, y_test = train_test_split(x, y, test_size=0.30,random_state=7)\n",
        "\n",
        "rr = Ridge(alpha = 1.0)\n",
        "rr.fit(x_train,y_train)\n",
        "Ridge()"
      ]
    },
    {
      "cell_type": "code",
      "execution_count": 20,
      "id": "0badaeb2",
      "metadata": {
        "id": "0badaeb2",
        "outputId": "678c7feb-9cb8-43fa-8f9e-fb6ebfca0bb3",
        "colab": {
          "base_uri": "https://localhost:8080/"
        }
      },
      "outputs": [
        {
          "output_type": "stream",
          "name": "stdout",
          "text": [
            "Ridge intercept: 17.912438125044297\n",
            "Ridge coefficients: [-0.10457782  0.02995856 -0.01071037  2.69707555 -7.93954232  5.38761916\n",
            " -0.01666562 -1.19655465  0.23897281 -0.01135577 -0.86739481  0.01205502\n",
            " -0.39359137]\n"
          ]
        }
      ],
      "source": [
        "print('Ridge intercept:', rr.intercept_)\n",
        "print('Ridge coefficients:', rr.coef_)"
      ]
    },
    {
      "cell_type": "code",
      "execution_count": 23,
      "id": "331b8410",
      "metadata": {
        "id": "331b8410",
        "outputId": "e2cdccbf-179b-4343-aabe-6095b2ad57c4",
        "colab": {
          "base_uri": "https://localhost:8080/"
        }
      },
      "outputs": [
        {
          "output_type": "stream",
          "name": "stdout",
          "text": [
            "r-squared for test set:  0.643931330859861\n",
            "r-squared for train set:  0.7594069113907516\n"
          ]
        }
      ],
      "source": [
        "print('r-squared for test set: ', rr.score(x_test, y_test))\n",
        "print('r-squared for train set: ', rr.score(x_train, y_train))"
      ]
    },
    {
      "cell_type": "code",
      "execution_count": 24,
      "id": "ec00f183",
      "metadata": {
        "id": "ec00f183",
        "outputId": "40a0b0ae-51d3-41a8-ad92-78c09831624c",
        "colab": {
          "base_uri": "https://localhost:8080/"
        }
      },
      "outputs": [
        {
          "output_type": "stream",
          "name": "stdout",
          "text": [
            "shape of x : (506, 13)\n",
            "shape of y : (506,)\n"
          ]
        }
      ],
      "source": [
        "x = df.iloc[:,:-1]\n",
        "y = df.loc[:,'SalePrice']\n",
        "y=y.astype('int')\n",
        "\n",
        "\n",
        "print(f'shape of x : {x.shape}')\n",
        "print(f'shape of y : {y.shape}')"
      ]
    },
    {
      "cell_type": "code",
      "execution_count": 25,
      "id": "58996842",
      "metadata": {
        "id": "58996842"
      },
      "outputs": [],
      "source": [
        "from sklearn.preprocessing import MinMaxScaler\n",
        "\n",
        "scaler = MinMaxScaler(feature_range=(0,1))\n",
        "x_ = scaler.fit_transform(x)\n",
        "x = pd.DataFrame(x_, columns=x.columns)\n"
      ]
    },
    {
      "cell_type": "code",
      "execution_count": 26,
      "id": "104b01a9",
      "metadata": {
        "id": "104b01a9",
        "outputId": "b2be1f88-c4c6-4fa6-f671-78b7edd2ab19",
        "colab": {
          "base_uri": "https://localhost:8080/"
        }
      },
      "outputs": [
        {
          "output_type": "stream",
          "name": "stdout",
          "text": [
            "shape of x_train : (354, 13)\n",
            "shape of x_test : (152, 13)\n",
            "shape of y_train : (354,)\n",
            "shape of y_test : (152,)\n"
          ]
        }
      ],
      "source": [
        "from sklearn.model_selection import train_test_split\n",
        "from sklearn.feature_selection import chi2\n",
        "from sklearn.feature_selection import SelectKBest\n",
        "\n",
        "\n",
        "\n",
        "x_train, x_test, y_train, y_test = train_test_split(x, y, test_size=0.30,random_state=7)\n",
        "\n",
        "\n",
        "fes = SelectKBest(score_func=chi2, k= 'all' )\n",
        "chi_fes = fes.fit_transform(x_train,y_train)\n",
        "x_train = fes.transform(x_train)\n",
        "x_test = fes.transform(x_test)\n",
        "\n",
        "\n",
        "print(f'shape of x_train : {x_train.shape}')\n",
        "print(f'shape of x_test : {x_test.shape}')\n",
        "print(f'shape of y_train : {y_train.shape}')\n",
        "print(f'shape of y_test : {y_test.shape}')"
      ]
    },
    {
      "cell_type": "code",
      "execution_count": 27,
      "id": "f62f2056",
      "metadata": {
        "id": "f62f2056",
        "outputId": "2ad53221-f6b8-4492-d78d-d327fa300e1d",
        "colab": {
          "base_uri": "https://localhost:8080/"
        }
      },
      "outputs": [
        {
          "output_type": "stream",
          "name": "stdout",
          "text": [
            "Ridge intercept: 21.867210393550508\n",
            "Ridge coefficients: [ -3.48749109   2.02712553  -0.8246523    3.32536001  -5.09717504\n",
            "  21.30462106  -0.08114632  -9.27662604   3.62337626  -4.13643544\n",
            "  -8.49796375   4.04506416 -15.24472021]\n",
            "R2 score on training set for Ridge Regression 0.7482123004480781\n",
            "R2 score on testing set for Ridge Regression 0.6570162072152759\n",
            " Mean squared error :54.454226328759766'\n",
            "'Root Mean squared error: 7.379310694689563\n"
          ]
        }
      ],
      "source": [
        "from sklearn.linear_model import Ridge\n",
        "\n",
        "rr = Ridge(alpha = 2.0)\n",
        "rr.fit(x_train,y_train)\n",
        "\n",
        "print('Ridge intercept:', rr.intercept_)\n",
        "print('Ridge coefficients:', rr.coef_) \n",
        "\n",
        "train_score = rr.score(x_train, y_train)\n",
        "test_score = rr.score(x_test, y_test)\n",
        "\n",
        "print(f'R2 score on training set for Ridge Regression {train_score}')\n",
        "print(f'R2 score on testing set for Ridge Regression {test_score}')\n",
        "\n",
        "y_predicted = li_reg.predict(x_test)\n",
        "mse=mean_squared_error(y_test,y_predicted)\n",
        "rmse = np.sqrt(mean_squared_error(y_test, y_predicted))\n",
        "print(f\" Mean squared error :{mse}'\\n'Root Mean squared error: {rmse}\")"
      ]
    },
    {
      "cell_type": "code",
      "execution_count": 28,
      "id": "71360d16",
      "metadata": {
        "id": "71360d16",
        "outputId": "4b9bba29-67c7-4c81-e0b1-826bafd108e5",
        "colab": {
          "base_uri": "https://localhost:8080/"
        }
      },
      "outputs": [
        {
          "output_type": "stream",
          "name": "stdout",
          "text": [
            "intercept: 21.867210393550508\n",
            "coefficients: [ -3.48749109   2.02712553  -0.8246523    3.32536001  -5.09717504\n",
            "  21.30462106  -0.08114632  -9.27662604   3.62337626  -4.13643544\n",
            "  -8.49796375   4.04506416 -15.24472021]\n",
            "R2 score on training set for Linear Regression 0.7482123004480781\n",
            "R2 score on testing set for Linear Regression 0.6570162072152759\n",
            " Mean squared error :26.701571947500067'\n",
            "'Root Mean squared error: 5.167356378991105\n"
          ]
        }
      ],
      "source": [
        "from sklearn.linear_model import LinearRegression\n",
        "\n",
        "li_reg = LinearRegression()\n",
        "\n",
        "li_reg = li_reg.fit(x_train,y_train)\n",
        "\n",
        "\n",
        "print('intercept:', rr.intercept_)\n",
        "print('coefficients:', rr.coef_)\n",
        "\n",
        "train_score = rr.score(x_train, y_train)\n",
        "test_score = rr.score(x_test, y_test)\n",
        "\n",
        "print(f'R2 score on training set for Linear Regression {train_score}')\n",
        "print(f'R2 score on testing set for Linear Regression {test_score}')\n",
        "\n",
        "y_predicted = li_reg.predict(x_test)\n",
        "mse=mean_squared_error(y_test,y_predicted)\n",
        "rmse = np.sqrt(mean_squared_error(y_test, y_predicted))\n",
        "print(f\" Mean squared error :{mse}'\\n'Root Mean squared error: {rmse}\")"
      ]
    },
    {
      "cell_type": "code",
      "execution_count": 29,
      "id": "71ad25d4",
      "metadata": {
        "id": "71ad25d4",
        "outputId": "cd3d6e6d-c906-4190-9c20-b901bfa05dcc",
        "colab": {
          "base_uri": "https://localhost:8080/",
          "height": 279
        }
      },
      "outputs": [
        {
          "output_type": "display_data",
          "data": {
            "text/plain": [
              "<Figure size 288x288 with 1 Axes>"
            ],
            "image/png": "[encoded data removed]"
          },
          "metadata": {
            "needs_background": "light"
          }
        }
      ],
      "source": [
        "plt.figure(figsize=(4,4))\n",
        "sb.regplot(data=df, x='CRIM',y='SalePrice')\n",
        "plt.show()"
      ]
    },
    {
      "cell_type": "code",
      "execution_count": 30,
      "id": "62126f5b",
      "metadata": {
        "id": "62126f5b",
        "outputId": "7430a6fa-af23-4a89-aaef-a28d2f5a24a5",
        "colab": {
          "base_uri": "https://localhost:8080/",
          "height": 279
        }
      },
      "outputs": [
        {
          "output_type": "display_data",
          "data": {
            "text/plain": [
              "<Figure size 288x288 with 1 Axes>"
            ],
            "image/png": "[encoded data removed]"
          },
          "metadata": {
            "needs_background": "light"
          }
        }
      ],
      "source": [
        "plt.figure(figsize=(4,4))\n",
        "sb.regplot(data=df, x='RM',y='SalePrice')\n",
        "plt.show()"
      ]
    },
    {
      "cell_type": "code",
      "execution_count": 30,
      "id": "91152a0b",
      "metadata": {
        "id": "91152a0b"
      },
      "outputs": [],
      "source": []
    }
  ],
  "metadata": {
    "kernelspec": {
      "display_name": "Python 3",
      "language": "python",
      "name": "python3"
    },
    "language_info": {
      "codemirror_mode": {
        "name": "ipython",
        "version": 3
      },
      "file_extension": ".py",
      "mimetype": "text/x-python",
      "name": "python",
      "nbconvert_exporter": "python",
      "pygments_lexer": "ipython3",
      "version": "3.8.8"
    },
    "colab": {
      "provenance": []
    }
  },
  "nbformat": 4,
  "nbformat_minor": 5
}